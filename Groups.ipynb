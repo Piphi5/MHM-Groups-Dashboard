{
 "cells": [
  {
   "cell_type": "code",
   "execution_count": 1,
   "metadata": {},
   "outputs": [
    {
     "name": "stdin",
     "output_type": "stream",
     "text": [
      "Enter password:  ·········\n"
     ]
    }
   ],
   "source": [
    "from arcgis.gis import GIS\n",
    "gis = GIS(url=\"https://igestrategies.maps.arcgis.com\", username = \"Piphi5\")"
   ]
  },
  {
   "cell_type": "code",
   "execution_count": 2,
   "metadata": {},
   "outputs": [],
   "source": [
    "import pandas as pd\n",
    "from ipywidgets import interact, interactive, fixed, interact_manual\n",
    "import ipywidgets as widgets\n",
    "from arcgis.features import FeatureLayer, GeoAccessor\n",
    "import os\n",
    "    \n",
    "groups_url = \"https://services4.arcgis.com/feSRYIeirl5nUF92/arcgis/rest/services/MHM_Group_Data/FeatureServer/0\"\n",
    "mhm_url = \"https://services4.arcgis.com/feSRYIeirl5nUF92/arcgis/rest/services/GLOBE_Observer_MHM_Measurements_Updated_Daily_Public_View/FeatureServer/0\"\n",
    "\n",
    "def get_data():\n",
    "    if not os.path.exists(\"AGO Data\"):\n",
    "        os.makedirs(\"AGO Data\")\n",
    "        \n",
    "    def get_df(item_id):\n",
    "        data_item = gis.content.get(item_id)\n",
    "        data_item.download(\"AGO Data\")\n",
    "        temp_df = pd.read_csv(f'AGO Data\\\\{data_item.name.replace(\"_\", \"\")}', low_memory = False)\n",
    "        #temp_df = temp_df.drop([\"SHAPE\", \"ObjectId\"], 1)\n",
    "        return temp_df\n",
    "    \n",
    "    df = get_df(\"782b2c88db4f4d869f49f9261cef5d57\")\n",
    "    groups_df = get_df(\"d2f5165a14c04b298d19bd64a3608f4c\").drop([\"Group Name\"], 1)\n",
    "    sorted_groups_df = groups_df.sort_values(\"measuredDate\", ascending=False).reset_index()\n",
    "    latest_date = sorted_groups_df[\"measuredDate\"].loc[0]\n",
    "    df = df[df[\"measuredDate\"] > latest_date].append(groups_df, ignore_index=True)\n",
    "    df = df.drop([\"Unnamed: 0\"], 1)\n",
    "    return df\n",
    "\n",
    "data = None\n",
    "removed_groups = []"
   ]
  },
  {
   "cell_type": "code",
   "execution_count": 3,
   "metadata": {},
   "outputs": [],
   "source": [
    "df = get_data()"
   ]
  },
  {
   "cell_type": "code",
   "execution_count": 4,
   "metadata": {},
   "outputs": [],
   "source": [
    "if not os.path.exists(\"Images\"):\n",
    "    os.makedirs(\"Images\")"
   ]
  },
  {
   "cell_type": "code",
   "execution_count": 5,
   "metadata": {},
   "outputs": [],
   "source": [
    "from arcgis.features import GeoAccessor\n",
    "from arcgis.features import SpatialDataFrame\n",
    "from arcgis.geoenrichment import enrich\n",
    "from arcgis.raster import ImageryLayer\n",
    "from arcgis.geometry import Geometry\n",
    "import numpy as np\n",
    "\n",
    "groups_features = pd.DataFrame()\n",
    "def remove_groups():\n",
    "    global data, removed_groups\n",
    "    for removed_group in removed_groups:\n",
    "        rm_name = data[data[\"Group Data\"] == removed_group].iloc[0][\"Group Name\"]\n",
    "        mask = data[\"Group Data\"] == removed_group\n",
    "        data.loc[mask, \"Group Name\"] = f\"{rm_name}-Removed\"\n",
    "        \n",
    "def process_data(threshold):\n",
    "    def set_group_name(date, latitude, source, site, longitude):\n",
    "        return f\"({str(date)[:10]}, {source}, {site}, {latitude}, {longitude})\"\n",
    "\n",
    "    global df, data, removed_groups, groups_features\n",
    "    suspect_df = df.groupby(by=['measuredDate','latitude','mosquitohabitatmapperWaterSourceType','siteName','longitude']).filter(lambda x: len(x) > threshold)\n",
    "\n",
    "    # identify groups\n",
    "    suspect_groups = suspect_df.groupby(by = ['measuredDate','latitude','mosquitohabitatmapperWaterSourceType','siteName','longitude'])\n",
    "\n",
    "    # create a groups dataset\n",
    "    vectorized_groups = np.vectorize(set_group_name)\n",
    "    suspect_df[\"Group Data\"] = vectorized_groups(\n",
    "        suspect_df['measuredDate'], \n",
    "        suspect_df['latitude'].to_numpy(), \n",
    "        suspect_df['mosquitohabitatmapperWaterSourceType'].to_numpy(), \n",
    "        suspect_df['siteName'].to_numpy(),\n",
    "        suspect_df['longitude'].to_numpy()\n",
    "    )\n",
    "    suspect_groups = suspect_df.groupby(by = ['measuredDate','latitude','mosquitohabitatmapperWaterSourceType','siteName','longitude'])\n",
    "    group_nums = pd.Series(suspect_groups.ngroup(), name=\"Group Name\")\n",
    "    data = pd.concat([suspect_df, group_nums], axis = 1)\n",
    "    data = data.sort_values(by = \"Group Name\")\n",
    "    remove_groups()\n",
    "    lat_lon_df = data[[\"longitude\", \"latitude\"]].copy(True)\n",
    "    groups_features = GeoAccessor.from_xy(lat_lon_df, \"longitude\", \"latitude\")\n",
    "process_data(10)"
   ]
  },
  {
   "cell_type": "code",
   "execution_count": 6,
   "metadata": {},
   "outputs": [],
   "source": [
    "from arcgis.features import FeatureLayerCollection\n",
    "from IPython.display import display, clear_output\n",
    "import ipywidgets as widgets\n",
    "\n",
    "\n",
    "\n",
    "m1 = gis.map('MHM Groups')\n",
    "\n",
    "\n",
    "def add_layer(map_obj):\n",
    "    map_obj.basemap = 'dark-gray-vector'\n",
    "    try:\n",
    "        global groups_features\n",
    "        groups_features.spatial.plot(map_widget=map_obj, renderer_type='s', colors='Reds_r', outline_color='Reds', marker_size=10)\n",
    "\n",
    "    except KeyError:\n",
    "        print(\"no such group exists\")\n",
    "    \n",
    "def update_map():\n",
    "    global m1\n",
    "    m1.remove_layers()\n",
    "    add_layer(m1)"
   ]
  },
  {
   "cell_type": "code",
   "execution_count": 7,
   "metadata": {},
   "outputs": [],
   "source": [
    "group_name = \"\"\n",
    "group_data = pd.DataFrame()\n",
    "def move_to_group(group):\n",
    "    global group_data, m1\n",
    "    if group != \"None\":\n",
    "        group_data = data[data[\"Group Name\"] == group]\n",
    "        latitude = group_data[\"latitude\"].iloc[0]\n",
    "        longitude = group_data[\"longitude\"].iloc[0]\n",
    "        m1.center = [latitude, longitude]\n",
    "    else:\n",
    "        group_data = pd.DataFrame()\n",
    "    \n",
    "       \n",
    "def select_group(group):\n",
    "    global group_name, group_data, selected_group\n",
    "    group_name = group\n",
    "    move_to_group(group)\n",
    "    display(group_data)\n"
   ]
  },
  {
   "cell_type": "code",
   "execution_count": 8,
   "metadata": {},
   "outputs": [],
   "source": [
    "stored_threshold = 10\n",
    "threshold_output = widgets.Output()\n",
    "deleted_length = len(removed_groups)\n",
    "\n",
    "@threshold_output.capture(clear_output=True, wait=True)\n",
    "def get_groups(threshold):\n",
    "    global stored_threshold, deleted_length\n",
    "    if stored_threshold != threshold or deleted_length != len(removed_groups):\n",
    "        stored_threshold = threshold\n",
    "        deleted_length = len(removed_groups)\n",
    "        process_data(stored_threshold)\n",
    "        \n",
    "    options = data[\"Group Name\"].unique().tolist()\n",
    "    options.insert(0, \"None\")\n",
    "    display(interactive(select_group, group = options))\n",
    "    \n",
    "\n",
    "\n",
    "threshold_modifier = widgets.VBox([interactive(get_groups, threshold = widgets.IntSlider(10, 1, 100, continuous_update = False)), threshold_output])"
   ]
  },
  {
   "cell_type": "code",
   "execution_count": 9,
   "metadata": {},
   "outputs": [],
   "source": [
    "import OverwriteFS\n",
    "def download_groups(_):\n",
    "    with download_out:\n",
    "        global stored_threshold, data\n",
    "        filename = f\"MHM_Groups.csv\"\n",
    "        item_id = \"3eff230387c045f79a70e40195961452\"\n",
    "        item_name = \"MHM Group Data\"\n",
    "        \n",
    "        item = gis.content.get(item_id)\n",
    "        \n",
    "        print(f\"Saving Groups CSV as {filename}\")\n",
    "        rm = pd.Series(removed_groups)\n",
    "        valid_data = data[~data[\"Group Data\"].isin(rm)]\n",
    "        valid_data.to_csv(filename)\n",
    "        outcome = OverwriteFS.overwriteFeatureService(item, updateFile=filename, touchItems=True, verbose=True)\n",
    "        print(f\"Finished saving file: {outcome}\")\n",
    "    \n",
    "download_button = widgets.Button(description='Upload Data')\n",
    "download_out = widgets.Output()\n",
    "\n",
    "# linking button and function together using a button's method\n",
    "download_button.on_click(download_groups)\n",
    "\n",
    "# create download widget\n",
    "download_button = widgets.VBox([download_button, download_out])"
   ]
  },
  {
   "cell_type": "code",
   "execution_count": 10,
   "metadata": {},
   "outputs": [],
   "source": [
    "import glob\n",
    "import re\n",
    "import requests\n",
    "import sys\n",
    "from IPython.display import Image\n",
    "\n",
    "\n",
    "def show_images(file):\n",
    "    try:\n",
    "        display(Image(\"Images/\" + file))\n",
    "    except TypeError:\n",
    "        print(\"No Pictures to download\")\n",
    "\n",
    "def download_picture(url, directory):\n",
    "  \n",
    "    def get_picture(file_name):\n",
    "        downloaded_obj = requests.get(url, allow_redirects=True)\n",
    "        parent_dir = os.path.join(directory, file_name)\n",
    "        with open(parent_dir, \"wb\") as file:\n",
    "            file.write(downloaded_obj.content)\n",
    "    if \"https://\" in url:\n",
    "        photo_id = re.search(r'(?<=\\d\\d\\d\\d\\/\\d\\d\\/\\d\\d\\/).*(?=\\/)', url).group(0)\n",
    "        file_name = f\"{photo_id}.jpg\".replace(\":\",\"-\")\n",
    "        get_picture(file_name)\n",
    "\n",
    "        \n",
    "def get_pictures(group):\n",
    "    files = glob.glob('Images/*')\n",
    "    for f in files:\n",
    "        os.remove(f)\n",
    "\n",
    "    group_water_source = group[\"mosquitohabitatmapperWaterSourcePhotoUrls\"].dropna().tolist()\n",
    "    group_abdomen = group[\"mosquitohabitatmapperAbdomenCloseupPhotoUrls\"].dropna().tolist()\n",
    "    group_larvae = group[\"mosquitohabitatmapperLarvaFullBodyPhotoUrls\"].dropna().tolist()\n",
    "    group_urls = group_water_source + group_abdomen + group_larvae\n",
    "    dl = 0\n",
    "    total_length = len(group_urls)\n",
    "    for urls in group_urls:\n",
    "        if urls:\n",
    "            dl += 1\n",
    "            urls = urls.split(\";\")\n",
    "            for url in urls:\n",
    "                download_picture(url, \"Images\")\n",
    "        \n",
    "        done = int(50 * dl / total_length)\n",
    "        sys.stdout.write(\"\\r[%s%s]\" % ('=' * done, ' ' * (50-done)) )    \n",
    "        sys.stdout.flush()\n",
    "\n",
    "def download_photos(_):\n",
    "    # \"linking function with output\"\n",
    "    with out:\n",
    "        # what happens when we press the button\n",
    "        clear_output()\n",
    "        print(\"Downloading Photos:\")\n",
    "        get_pictures(data[data[\"Group Name\"] == group_name])\n",
    "        print(' Finished Downloading!')\n",
    "        \n",
    "        photo_displayer = interactive(show_images, file=os.listdir('Images/')) \n",
    "        display(photo_displayer)"
   ]
  },
  {
   "cell_type": "code",
   "execution_count": 11,
   "metadata": {},
   "outputs": [],
   "source": [
    "button = widgets.Button(description='Get Photos')\n",
    "out = widgets.Output()\n",
    "\n",
    "# linking button and function together using a button's method\n",
    "button.on_click(download_photos)\n",
    "# displaying button and its output together\n",
    "button = widgets.VBox([button,out])"
   ]
  },
  {
   "cell_type": "code",
   "execution_count": 12,
   "metadata": {},
   "outputs": [],
   "source": [
    "def update_ui():\n",
    "    global stored_threshold, threshold_modifier\n",
    "    remove_groups()\n",
    "    display(threshold_modifier)\n",
    "    \n",
    "def delete_group(_):\n",
    "    global removed_groups, group_data, group_name\n",
    "    if group_name == \"None\":\n",
    "        return\n",
    "    identifier = group_data[\"Group Data\"].iloc[0]\n",
    "    \n",
    "    # to ensure no duplicates\n",
    "    if identifier not in removed_groups:\n",
    "        removed_groups.append(identifier)\n",
    "    \n",
    "    update_ui()\n",
    "    \n",
    "def undo_remove(_):\n",
    "    global removed_groups, group_data, group_name\n",
    "    if \"Removed\" in str(group_name):\n",
    "        removed_groups.remove(group_data[\"Group Data\"].iloc[0])\n",
    "    else:\n",
    "        try:\n",
    "            removed_groups.pop()\n",
    "        except IndexError:\n",
    "            pass\n",
    "    \n",
    "    update_ui()\n",
    "    \n",
    "def update_local(_):\n",
    "    global df, stored_threshold\n",
    "    df = get_data()\n",
    "    process_data(stored_threshold)\n",
    "    update_ui()\n",
    "    update_map()\n",
    "    \n",
    "    "
   ]
  },
  {
   "cell_type": "code",
   "execution_count": 13,
   "metadata": {},
   "outputs": [],
   "source": [
    "delete_button = widgets.Button(description = \"Delete Group\")\n",
    "delete_button.on_click(delete_group)\n",
    "\n",
    "update_button = widgets.Button(description = \"Update From Sever\")\n",
    "update_button.on_click(update_local)\n",
    "\n",
    "undo_button = widgets.Button(description = \"Undo Deletion\")\n",
    "undo_button.on_click(undo_remove)\n",
    "\n",
    "data_flagging = widgets.HBox([delete_button, undo_button, update_button])\n",
    "data_interface = widgets.VBox([data_flagging, threshold_modifier])"
   ]
  },
  {
   "cell_type": "code",
   "execution_count": 14,
   "metadata": {},
   "outputs": [],
   "source": [
    "tabs = widgets.Tab(children = [data_interface, button, download_button])\n",
    "\n",
    "tabs.set_title(0, \"Threshold Selection\")\n",
    "tabs.set_title(1, \"Photo Downloader\")\n",
    "tabs.set_title(2, \"Data Upload\")"
   ]
  },
  {
   "cell_type": "code",
   "execution_count": 15,
   "metadata": {},
   "outputs": [
    {
     "data": {
      "application/vnd.jupyter.widget-view+json": {
       "model_id": "3c4eee68c07344d89099e0ffda37f287",
       "version_major": 2,
       "version_minor": 0
      },
      "text/plain": [
       "MapView(layout=Layout(height='400px', width='100%'))"
      ]
     },
     "metadata": {},
     "output_type": "display_data"
    },
    {
     "data": {
      "text/html": [
       "<div class=\"map-static-img-preview-a09c2d4b-0133-41e9-8f9f-92cccd5089e9\"><img src=\"\"></img></div>"
      ],
      "text/plain": [
       "<IPython.core.display.HTML object>"
      ]
     },
     "metadata": {},
     "output_type": "display_data"
    }
   ],
   "source": [
    "add_layer(m1)\n",
    "m1"
   ]
  },
  {
   "cell_type": "code",
   "execution_count": 16,
   "metadata": {
    "slideshow": {
     "slide_type": "subslide"
    }
   },
   "outputs": [
    {
     "data": {
      "application/vnd.jupyter.widget-view+json": {
       "model_id": "4743c275fa4c46e2a232e8ea98dbbbf2",
       "version_major": 2,
       "version_minor": 0
      },
      "text/plain": [
       "Tab(children=(VBox(children=(HBox(children=(Button(description='Delete Group', style=ButtonStyle()), Button(de…"
      ]
     },
     "metadata": {},
     "output_type": "display_data"
    }
   ],
   "source": [
    "tabs"
   ]
  },
  {
   "cell_type": "code",
   "execution_count": null,
   "metadata": {},
   "outputs": [],
   "source": []
  }
 ],
 "metadata": {
  "kernelspec": {
   "display_name": "Python 3",
   "language": "python",
   "name": "python3"
  },
  "language_info": {
   "codemirror_mode": {
    "name": "ipython",
    "version": 3
   },
   "file_extension": ".py",
   "mimetype": "text/x-python",
   "name": "python",
   "nbconvert_exporter": "python",
   "pygments_lexer": "ipython3",
   "version": "3.8.5"
  }
 },
 "nbformat": 4,
 "nbformat_minor": 4
}
