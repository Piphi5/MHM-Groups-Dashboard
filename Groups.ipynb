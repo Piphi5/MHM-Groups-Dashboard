{
 "cells": [
  {
   "cell_type": "code",
   "execution_count": 1,
   "metadata": {},
   "outputs": [],
   "source": [
    "import pandas as pd\n",
    "from ipywidgets import interact, interactive, fixed, interact_manual\n",
    "import ipywidgets as widgets\n",
    "from arcgis.features import FeatureLayer\n",
    "\n",
    "mhm_url = \"https://services4.arcgis.com/feSRYIeirl5nUF92/arcgis/rest/services/MHM_2020/FeatureServer/0\"\n",
    "\n",
    "layer = FeatureLayer(mhm_url)\n",
    "\n",
    "df = layer.query(where = \"protocol = 'mosquito_habitat_mapper'\").sdf\n",
    "data = pd.DataFrame()"
   ]
  },
  {
   "cell_type": "code",
   "execution_count": 2,
   "metadata": {},
   "outputs": [],
   "source": [
    "from arcgis.gis import GIS\n",
    "gis = GIS(url=\"https://igestrategies.maps.arcgis.com\", username=\"\", password = \"\")"
   ]
  },
  {
   "cell_type": "code",
   "execution_count": 3,
   "metadata": {},
   "outputs": [],
   "source": [
    "def process_data(threshold):\n",
    "    global df, data\n",
    "    suspect_df = df.groupby(by=['measuredDate','latitude','mosquitohabitatmapperWaterSou_2','siteName','longitude']).filter(lambda x: len(x) > threshold)\n",
    "\n",
    "    # identify groups\n",
    "    suspect_groups = suspect_df.groupby(by = ['measuredDate','latitude','mosquitohabitatmapperWaterSou_2','siteName','longitude'])\n",
    "\n",
    "    # create a groups dataset\n",
    "    groups_data = pd.DataFrame()\n",
    "    group_num = 1 \n",
    "    for group, temp in suspect_groups:\n",
    "        new_df = temp.copy(True)\n",
    "        new_df[\"Group Data\"] = str(group)\n",
    "        new_df[\"Group Name\"] = str(group_num)\n",
    "        \n",
    "        group_num += 1\n",
    "        groups_data = groups_data.append(new_df, ignore_index = True)\n",
    "    data = groups_data\n",
    "\n",
    "process_data(10)"
   ]
  },
  {
   "cell_type": "code",
   "execution_count": 4,
   "metadata": {},
   "outputs": [],
   "source": [
    "from arcgis.features import FeatureLayerCollection\n",
    "import geopandas as gpd\n",
    "from arcgis.features import GeoAccessor\n",
    "from IPython.display import display, clear_output\n",
    "import ipywidgets as widgets\n",
    "\n",
    "from arcgis.features import SpatialDataFrame\n",
    "from arcgis.geoenrichment import enrich\n",
    "from arcgis.raster import ImageryLayer\n",
    "from arcgis.geometry import Geometry\n",
    "\n",
    "map = gis.map('MHM Groups')\n",
    "groups_features = pd.DataFrame()\n",
    "\n",
    "def update_group_data():\n",
    "    global data\n",
    "    global groups_features\n",
    "    geojson_data = data.drop(columns = [\"SHAPE\"])\n",
    "\n",
    "    gdf = gpd.GeoDataFrame(\n",
    "        geojson_data, geometry=gpd.points_from_xy(geojson_data.longitude, geojson_data.latitude))\n",
    "    gdf.mosquitohabitatmapperComments.replace({r'[^\\x00-\\x7F]+':''}, regex=True, inplace=True)\n",
    "    groups_features = GeoAccessor.from_geodataframe(gdf)\n",
    "    \n",
    "def update_map():\n",
    "    map.remove_layers()\n",
    "    try:\n",
    "        update_group_data()\n",
    "        groups_features.spatial.plot(map_widget = map)\n",
    "        \n",
    "    except KeyError:\n",
    "        print(\"no such group exists\")\n",
    "    map.basemap = 'dark-gray-vector'\n",
    "    \n",
    "update_map()"
   ]
  },
  {
   "cell_type": "code",
   "execution_count": 5,
   "metadata": {},
   "outputs": [],
   "source": [
    "group_name = \"\"\n",
    "def move_to_group(group):\n",
    "    group_data = groups_features[groups_features[\"Group Name\"] == group]\n",
    "    latitude = group_data[\"latitude\"].iloc[0]\n",
    "    longitude = group_data[\"longitude\"].iloc[0]\n",
    "    map.center = [latitude, longitude]\n",
    "    return group_data\n",
    "    \n",
    "def select_group(group):\n",
    "    global group_name \n",
    "    group_name = group\n",
    "    group_data = move_to_group(group)\n",
    "    display(group_data)\n"
   ]
  },
  {
   "cell_type": "code",
   "execution_count": 6,
   "metadata": {},
   "outputs": [],
   "source": [
    "def get_groups(threshold = 10):\n",
    "    process_data(threshold)\n",
    "    update_map()\n",
    "    display(interactive(select_group, group = groups_features[\"Group Name\"].unique()))\n",
    "    \n",
    "\n",
    "\n",
    "threshold_modifier = interactive(get_groups, threshold = (0, 200))"
   ]
  },
  {
   "cell_type": "code",
   "execution_count": 7,
   "metadata": {},
   "outputs": [],
   "source": [
    "import os\n",
    "import glob\n",
    "import re\n",
    "import requests\n",
    "import sys\n",
    "from IPython.display import Image\n",
    "\n",
    "\n",
    "def show_images(file):\n",
    "    try:\n",
    "        display(Image(\"Images/\" + file))\n",
    "    except TypeError:\n",
    "        print(\"No Pictures to download\")\n",
    "\n",
    "def download_picture(url, directory):\n",
    "    def get_picture(file_name):\n",
    "        downloaded_obj = requests.get(url, allow_redirects=True)\n",
    "        parent_dir = os.path.join(directory, file_name)\n",
    "        with open(parent_dir, \"wb\") as file:\n",
    "            file.write(downloaded_obj.content)\n",
    "\n",
    "    if \"https://\" in url:\n",
    "        photo_id = re.search(r'(?<=\\d\\d\\d\\d\\/\\d\\d\\/\\d\\d\\/).*(?=\\/)', url).group(0)\n",
    "        file_name = f\"{photo_id}.jpg\".replace(\":\",\"-\")\n",
    "        get_picture(file_name)\n",
    "\n",
    "        \n",
    "def get_pictures(group):\n",
    "    files = glob.glob('Images/*')\n",
    "    for f in files:\n",
    "        os.remove(f)\n",
    "\n",
    "    group_water_source = group[\"mosquitohabitatmapperWaterSou_1\"].dropna().tolist()\n",
    "    group_abdomen = group[\"mosquitohabitatmapperAbdomenClo\"].dropna().tolist()\n",
    "    group_larvae = group[\"mosquitohabitatmapperLarvaFullB\"].dropna().tolist()\n",
    "    group_urls = group_water_source + group_abdomen + group_larvae\n",
    "    dl = 0\n",
    "    total_length = len(group_urls)\n",
    "    for urls in group_urls:\n",
    "        if urls:\n",
    "            dl += 1\n",
    "            urls = urls.split(\";\")\n",
    "            for url in urls:\n",
    "                download_picture(url, \"Images\")\n",
    "        \n",
    "        done = int(50 * dl / total_length)\n",
    "        sys.stdout.write(\"\\r[%s%s]\" % ('=' * done, ' ' * (50-done)) )    \n",
    "        sys.stdout.flush()\n",
    "        \n",
    "\n",
    "\n",
    "\n",
    "def download_photos(_):\n",
    "    # \"linking function with output\"\n",
    "    with out:\n",
    "        # what happens when we press the button\n",
    "        clear_output()\n",
    "        print(\"Downloading Photos:\")\n",
    "        get_pictures(groups_features[groups_features[\"Group Name\"] == group_name])\n",
    "        print(' Finished Downloading!')\n",
    "        \n",
    "        photo_displayer = interactive(show_images, file=os.listdir('Images/')) \n",
    "        display(photo_displayer)"
   ]
  },
  {
   "cell_type": "code",
   "execution_count": 8,
   "metadata": {},
   "outputs": [],
   "source": [
    "button = widgets.Button(description='Get Photos')\n",
    "out = widgets.Output()\n",
    "\n",
    "# linking button and function together using a button's method\n",
    "button.on_click(download_photos)\n",
    "# displaying button and its output together\n",
    "button = widgets.VBox([button,out])"
   ]
  },
  {
   "cell_type": "code",
   "execution_count": 9,
   "metadata": {},
   "outputs": [
    {
     "data": {
      "application/vnd.jupyter.widget-view+json": {
       "model_id": "01365c008c064d4ea95e6db18b943852",
       "version_major": 2,
       "version_minor": 0
      },
      "text/plain": [
       "MapView(layout=Layout(height='400px', width='100%'))"
      ]
     },
     "metadata": {},
     "output_type": "display_data"
    },
    {
     "data": {
      "text/html": [
       "<div class=\"map-static-img-preview-11f8db3f-45b1-4d53-b469-f843e8e1e586\"><img src=\"\"></img></div>"
      ],
      "text/plain": [
       "<IPython.core.display.HTML object>"
      ]
     },
     "metadata": {},
     "output_type": "display_data"
    },
    {
     "data": {
      "application/vnd.jupyter.widget-view+json": {
       "model_id": "9e9b66dca4d44af6b475111763a85ec2",
       "version_major": 2,
       "version_minor": 0
      },
      "text/plain": [
       "Tab(children=(interactive(children=(IntSlider(value=10, description='threshold', max=200), Output()), _dom_cla…"
      ]
     },
     "metadata": {},
     "output_type": "display_data"
    }
   ],
   "source": [
    "tabs = widgets.Tab(children = [threshold_modifier, button])\n",
    "\n",
    "tabs.set_title(0, \"Threshold Selection\")\n",
    "tabs.set_title(1, \"Photo Downloader\")\n",
    "\n",
    "\n",
    "update_map()\n",
    "\n",
    "\n",
    "display(map)\n",
    "display(tabs)"
   ]
  },
  {
   "cell_type": "code",
   "execution_count": null,
   "metadata": {},
   "outputs": [],
   "source": []
  }
 ],
 "metadata": {
  "kernelspec": {
   "display_name": "Python 3",
   "language": "python",
   "name": "python3"
  },
  "language_info": {
   "codemirror_mode": {
    "name": "ipython",
    "version": 3
   },
   "file_extension": ".py",
   "mimetype": "text/x-python",
   "name": "python",
   "nbconvert_exporter": "python",
   "pygments_lexer": "ipython3",
   "version": "3.8.5"
  }
 },
 "nbformat": 4,
 "nbformat_minor": 4
}
