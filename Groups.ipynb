{
 "cells": [
  {
   "cell_type": "code",
   "execution_count": 2,
   "metadata": {},
   "outputs": [
    {
     "data": {
      "application/vnd.jupyter.widget-view+json": {
       "model_id": "b6cafceaa39442b69b74f9dcf9d4d15e",
       "version_major": 2,
       "version_minor": 0
      },
      "text/plain": [
       "interactive(children=(IntSlider(value=10, description='threshold', max=250), Output()), _dom_classes=('widget-…"
      ]
     },
     "metadata": {},
     "output_type": "display_data"
    }
   ],
   "source": [
    "import pandas as pd\n",
    "from ipywidgets import interact, interactive, fixed, interact_manual\n",
    "import ipywidgets as widgets\n",
    "from arcgis.features import FeatureLayer\n",
    "\n",
    "mhm_url = \"https://services4.arcgis.com/feSRYIeirl5nUF92/arcgis/rest/services/MHM_2020/FeatureServer/0\"\n",
    "\n",
    "layer = FeatureLayer(mhm_url)\n",
    "\n",
    "df = layer.query(where = \"protocol = 'mosquito_habitat_mapper'\").sdf\n",
    "data = pd.DataFrame()\n",
    "\n",
    "@interact(threshold = (0, 250))\n",
    "def get_groups(threshold = 10):\n",
    "    global df\n",
    "    global data\n",
    "    # groups / filters suspected events\n",
    "    suspect_df = df.groupby(by=['measuredDate','latitude','mosquitohabitatmapperWaterSou_2','siteName','longitude']).filter(lambda x: len(x) > threshold)\n",
    "\n",
    "    # identify groups\n",
    "    suspect_groups = suspect_df.groupby(by = ['measuredDate','latitude','mosquitohabitatmapperWaterSou_2','siteName','longitude'])\n",
    "\n",
    "    # create a groups dataset\n",
    "    groups_data = pd.DataFrame()\n",
    "    group_num = 1 \n",
    "    for group, temp in suspect_groups:\n",
    "        new_df = temp.copy(True)\n",
    "        new_df[\"Group Data\"] = str(group)\n",
    "        new_df[\"Group Name\"] = str(group_num)\n",
    "        \n",
    "        group_num += 1\n",
    "        groups_data = groups_data.append(new_df, ignore_index = True)\n",
    "        \n",
    "    data = groups_data\n",
    "    return groups_data\n"
   ]
  },
  {
   "cell_type": "code",
   "execution_count": 1,
   "metadata": {},
   "outputs": [
    {
     "name": "stdin",
     "output_type": "stream",
     "text": [
      "Enter password:  ·········\n"
     ]
    }
   ],
   "source": [
    "from arcgis.gis import GIS\n",
    "\n",
    "gis = GIS( url=\"https://igestrategies.maps.arcgis.com\", username=\"Piphi5\")"
   ]
  },
  {
   "cell_type": "code",
   "execution_count": 5,
   "metadata": {},
   "outputs": [],
   "source": [
    "\n",
    "output_file = \"groups.geojson\""
   ]
  },
  {
   "cell_type": "code",
   "execution_count": 57,
   "metadata": {},
   "outputs": [
    {
     "ename": "AttributeError",
     "evalue": "'NoneType' object has no attribute 'type'",
     "output_type": "error",
     "traceback": [
      "\u001b[1;31m---------------------------------------------------------------------------\u001b[0m",
      "\u001b[1;31mAttributeError\u001b[0m                            Traceback (most recent call last)",
      "\u001b[1;32m<ipython-input-57-74c60c4b245f>\u001b[0m in \u001b[0;36m<module>\u001b[1;34m\u001b[0m\n\u001b[0;32m     18\u001b[0m \u001b[1;33m\u001b[0m\u001b[0m\n\u001b[0;32m     19\u001b[0m \u001b[1;33m\u001b[0m\u001b[0m\n\u001b[1;32m---> 20\u001b[1;33m \u001b[0mflc\u001b[0m \u001b[1;33m=\u001b[0m \u001b[0mFeatureLayerCollection\u001b[0m\u001b[1;33m.\u001b[0m\u001b[0mfromitem\u001b[0m\u001b[1;33m(\u001b[0m\u001b[0mgroup_layer_item\u001b[0m\u001b[1;33m)\u001b[0m\u001b[1;33m\u001b[0m\u001b[1;33m\u001b[0m\u001b[0m\n\u001b[0m\u001b[0;32m     21\u001b[0m \u001b[0mflc\u001b[0m\u001b[1;33m.\u001b[0m\u001b[0mmanager\u001b[0m\u001b[1;33m.\u001b[0m\u001b[0moverwrite\u001b[0m\u001b[1;33m(\u001b[0m\u001b[0moutput_file\u001b[0m\u001b[1;33m)\u001b[0m\u001b[1;33m\u001b[0m\u001b[1;33m\u001b[0m\u001b[0m\n\u001b[0;32m     22\u001b[0m \u001b[1;33m\u001b[0m\u001b[0m\n",
      "\u001b[1;32m~\\AppData\\Local\\Continuum\\anaconda3\\envs\\Groups\\lib\\site-packages\\arcgis\\gis\\__init__.py\u001b[0m in \u001b[0;36mfromitem\u001b[1;34m(cls, item)\u001b[0m\n\u001b[0;32m  10672\u001b[0m     \u001b[1;33m@\u001b[0m\u001b[0mclassmethod\u001b[0m\u001b[1;33m\u001b[0m\u001b[1;33m\u001b[0m\u001b[0m\n\u001b[0;32m  10673\u001b[0m     \u001b[1;32mdef\u001b[0m \u001b[0mfromitem\u001b[0m\u001b[1;33m(\u001b[0m\u001b[0mcls\u001b[0m\u001b[1;33m,\u001b[0m \u001b[0mitem\u001b[0m\u001b[1;33m)\u001b[0m\u001b[1;33m:\u001b[0m\u001b[1;33m\u001b[0m\u001b[1;33m\u001b[0m\u001b[0m\n\u001b[1;32m> 10674\u001b[1;33m         \u001b[1;32mif\u001b[0m \u001b[1;32mnot\u001b[0m \u001b[0mitem\u001b[0m\u001b[1;33m.\u001b[0m\u001b[0mtype\u001b[0m\u001b[1;33m.\u001b[0m\u001b[0mlower\u001b[0m\u001b[1;33m(\u001b[0m\u001b[1;33m)\u001b[0m\u001b[1;33m.\u001b[0m\u001b[0mendswith\u001b[0m\u001b[1;33m(\u001b[0m\u001b[1;34m'service'\u001b[0m\u001b[1;33m)\u001b[0m\u001b[1;33m:\u001b[0m\u001b[1;33m\u001b[0m\u001b[1;33m\u001b[0m\u001b[0m\n\u001b[0m\u001b[0;32m  10675\u001b[0m             \u001b[1;32mraise\u001b[0m \u001b[0mTypeError\u001b[0m\u001b[1;33m(\u001b[0m\u001b[1;34m\"item must be a type of service, not \"\u001b[0m \u001b[1;33m+\u001b[0m \u001b[0mitem\u001b[0m\u001b[1;33m.\u001b[0m\u001b[0mtype\u001b[0m\u001b[1;33m)\u001b[0m\u001b[1;33m\u001b[0m\u001b[1;33m\u001b[0m\u001b[0m\n\u001b[0;32m  10676\u001b[0m         \u001b[1;32mreturn\u001b[0m \u001b[0mcls\u001b[0m\u001b[1;33m(\u001b[0m\u001b[0mitem\u001b[0m\u001b[1;33m.\u001b[0m\u001b[0murl\u001b[0m\u001b[1;33m,\u001b[0m \u001b[0mitem\u001b[0m\u001b[1;33m.\u001b[0m\u001b[0m_gis\u001b[0m\u001b[1;33m)\u001b[0m\u001b[1;33m\u001b[0m\u001b[1;33m\u001b[0m\u001b[0m\n",
      "\u001b[1;31mAttributeError\u001b[0m: 'NoneType' object has no attribute 'type'"
     ]
    }
   ],
   "source": [
    "from arcgis.features import FeatureLayerCollection\n",
    "import geopandas as gpd\n",
    "\n",
    "\n",
    "\n",
    "geojson_data = data.drop(columns = [\"SHAPE\"])\n",
    "gdf = gpd.GeoDataFrame(\n",
    "    geojson_data, geometry=gpd.points_from_xy(geojson_data.longitude, geojson_data.latitude))\n",
    "\n",
    "gdf.mosquitohabitatmapperComments .replace({r'[^\\x00-\\x7F]+':''}, regex=True, inplace=True)\n",
    "gdf.to_file(output_file, driver='GeoJSON')\n",
    "\n",
    "geojson_properties = {'overwrite':True}\n",
    "\n",
    "groups_layer_id = \"4971cba8fc7c48d3893d9bfdd9b6eecc\"\n",
    "group_layer_item = gis.content.get(groups_layer_id)\n",
    "\n",
    "\n",
    "flc = FeatureLayerCollection.fromitem(group_layer_item)\n",
    "flc.manager.overwrite(output_file)\n",
    "\n",
    "#outcome = OverwriteFS.overwriteFeatureService(group_layer_item, \"./mhm_groups.geojson\")\n",
    "\n"
   ]
  },
  {
   "cell_type": "code",
   "execution_count": 6,
   "metadata": {},
   "outputs": [],
   "source": [
    "mhm_geojson_properties = {'title' :'MHM Groups', 'type' : 'GeoJson', 'overwrite':'True', 'description' : '<p>MHM Data from GLOBE API URL: </p><p>Data is updated daily at 00:01 UTC</p><p><strong>Modification:</strong> GeoJSON file has been created from GLOBE API \"non-GeoJSON\" output. Coordinate geometry defined by mosquitohabitatmapperMeasurementLatitude and mosquitohabitatmappermeasurementLongitude coordinates, rather than the MGRS coordinates used in the GeoJSON generated by the GLOBE API</p>', 'tags' : 'MHM, GLOBE Observer Geospatial Data Hub, Modified'}\n",
    "mhm_geojson_item = gis.content.add(item_properties=mhm_geojson_properties, data=output_file)\n"
   ]
  },
  {
   "cell_type": "code",
   "execution_count": 7,
   "metadata": {},
   "outputs": [
    {
     "ename": "Exception",
     "evalue": "Job failed.",
     "output_type": "error",
     "traceback": [
      "\u001b[1;31m---------------------------------------------------------------------------\u001b[0m",
      "\u001b[1;31mException\u001b[0m                                 Traceback (most recent call last)",
      "\u001b[1;32m<ipython-input-7-4afbc4474701>\u001b[0m in \u001b[0;36m<module>\u001b[1;34m\u001b[0m\n\u001b[0;32m      1\u001b[0m \u001b[0mnew_item\u001b[0m \u001b[1;33m=\u001b[0m \u001b[0mmhm_geojson_item\u001b[0m\u001b[1;33m.\u001b[0m\u001b[0mid\u001b[0m\u001b[1;33m\u001b[0m\u001b[1;33m\u001b[0m\u001b[0m\n\u001b[0;32m      2\u001b[0m \u001b[0mmhm_feature_layer_item\u001b[0m \u001b[1;33m=\u001b[0m \u001b[0mgis\u001b[0m\u001b[1;33m.\u001b[0m\u001b[0mcontent\u001b[0m\u001b[1;33m.\u001b[0m\u001b[0mget\u001b[0m\u001b[1;33m(\u001b[0m\u001b[0mnew_item\u001b[0m\u001b[1;33m)\u001b[0m\u001b[1;33m\u001b[0m\u001b[1;33m\u001b[0m\u001b[0m\n\u001b[1;32m----> 3\u001b[1;33m \u001b[0mmhm_feature_layer_item\u001b[0m\u001b[1;33m.\u001b[0m\u001b[0mpublish\u001b[0m\u001b[1;33m(\u001b[0m\u001b[0moverwrite\u001b[0m \u001b[1;33m=\u001b[0m \u001b[1;32mTrue\u001b[0m\u001b[1;33m)\u001b[0m\u001b[1;33m\u001b[0m\u001b[1;33m\u001b[0m\u001b[0m\n\u001b[0m",
      "\u001b[1;32m~\\AppData\\Local\\Continuum\\anaconda3\\envs\\Groups\\lib\\site-packages\\arcgis\\gis\\__init__.py\u001b[0m in \u001b[0;36mpublish\u001b[1;34m(self, publish_parameters, address_fields, output_type, overwrite, file_type, build_initial_cache, item_id)\u001b[0m\n\u001b[0;32m   9684\u001b[0m             \u001b[1;32mreturn\u001b[0m \u001b[0mItem\u001b[0m\u001b[1;33m(\u001b[0m\u001b[0mself\u001b[0m\u001b[1;33m.\u001b[0m\u001b[0m_gis\u001b[0m\u001b[1;33m,\u001b[0m \u001b[0mret\u001b[0m\u001b[1;33m[\u001b[0m\u001b[1;36m0\u001b[0m\u001b[1;33m]\u001b[0m\u001b[1;33m[\u001b[0m\u001b[1;34m'serviceItemId'\u001b[0m\u001b[1;33m]\u001b[0m\u001b[1;33m)\u001b[0m\u001b[1;33m\u001b[0m\u001b[1;33m\u001b[0m\u001b[0m\n\u001b[0;32m   9685\u001b[0m         \u001b[1;32melse\u001b[0m\u001b[1;33m:\u001b[0m\u001b[1;33m\u001b[0m\u001b[1;33m\u001b[0m\u001b[0m\n\u001b[1;32m-> 9686\u001b[1;33m             \u001b[0mserviceitem_id\u001b[0m \u001b[1;33m=\u001b[0m \u001b[0mself\u001b[0m\u001b[1;33m.\u001b[0m\u001b[0m_check_publish_status\u001b[0m\u001b[1;33m(\u001b[0m\u001b[0mret\u001b[0m\u001b[1;33m,\u001b[0m \u001b[0mfolder\u001b[0m\u001b[1;33m)\u001b[0m\u001b[1;33m\u001b[0m\u001b[1;33m\u001b[0m\u001b[0m\n\u001b[0m\u001b[0;32m   9687\u001b[0m         \u001b[1;32mreturn\u001b[0m \u001b[0mItem\u001b[0m\u001b[1;33m(\u001b[0m\u001b[0mself\u001b[0m\u001b[1;33m.\u001b[0m\u001b[0m_gis\u001b[0m\u001b[1;33m,\u001b[0m \u001b[0mserviceitem_id\u001b[0m\u001b[1;33m)\u001b[0m\u001b[1;33m\u001b[0m\u001b[1;33m\u001b[0m\u001b[0m\n\u001b[0;32m   9688\u001b[0m \u001b[1;33m\u001b[0m\u001b[0m\n",
      "\u001b[1;32m~\\AppData\\Local\\Continuum\\anaconda3\\envs\\Groups\\lib\\site-packages\\arcgis\\gis\\__init__.py\u001b[0m in \u001b[0;36m_check_publish_status\u001b[1;34m(self, ret, folder)\u001b[0m\n\u001b[0;32m   9911\u001b[0m                     \u001b[1;31m#print(str(job_response))\u001b[0m\u001b[1;33m\u001b[0m\u001b[1;33m\u001b[0m\u001b[1;33m\u001b[0m\u001b[0m\n\u001b[0;32m   9912\u001b[0m                     \u001b[1;32mif\u001b[0m \u001b[0mjob_response\u001b[0m\u001b[1;33m.\u001b[0m\u001b[0mget\u001b[0m\u001b[1;33m(\u001b[0m\u001b[1;34m\"status\"\u001b[0m\u001b[1;33m)\u001b[0m \u001b[1;32min\u001b[0m \u001b[1;33m(\u001b[0m\u001b[1;34m\"esriJobFailed\"\u001b[0m\u001b[1;33m,\u001b[0m\u001b[1;34m\"failed\"\u001b[0m\u001b[1;33m)\u001b[0m\u001b[1;33m:\u001b[0m\u001b[1;33m\u001b[0m\u001b[1;33m\u001b[0m\u001b[0m\n\u001b[1;32m-> 9913\u001b[1;33m                         \u001b[1;32mraise\u001b[0m \u001b[0mException\u001b[0m\u001b[1;33m(\u001b[0m\u001b[1;34m\"Job failed.\"\u001b[0m\u001b[1;33m)\u001b[0m\u001b[1;33m\u001b[0m\u001b[1;33m\u001b[0m\u001b[0m\n\u001b[0m\u001b[0;32m   9914\u001b[0m                     \u001b[1;32melif\u001b[0m \u001b[0mjob_response\u001b[0m\u001b[1;33m.\u001b[0m\u001b[0mget\u001b[0m\u001b[1;33m(\u001b[0m\u001b[1;34m\"status\"\u001b[0m\u001b[1;33m)\u001b[0m \u001b[1;33m==\u001b[0m \u001b[1;34m\"esriJobCancelled\"\u001b[0m\u001b[1;33m:\u001b[0m\u001b[1;33m\u001b[0m\u001b[1;33m\u001b[0m\u001b[0m\n\u001b[0;32m   9915\u001b[0m                         \u001b[1;32mraise\u001b[0m \u001b[0mException\u001b[0m\u001b[1;33m(\u001b[0m\u001b[1;34m\"Job cancelled.\"\u001b[0m\u001b[1;33m)\u001b[0m\u001b[1;33m\u001b[0m\u001b[1;33m\u001b[0m\u001b[0m\n",
      "\u001b[1;31mException\u001b[0m: Job failed."
     ]
    }
   ],
   "source": [
    "new_item = mhm_geojson_item.id\n",
    "mhm_feature_layer_item = gis.content.get(new_item)\n",
    "mhm_feature_layer_item.publish(overwrite = True)"
   ]
  },
  {
   "cell_type": "code",
   "execution_count": 17,
   "metadata": {},
   "outputs": [
    {
     "data": {
      "application/vnd.jupyter.widget-view+json": {
       "model_id": "5879eac4695342559765c3ea6935667b",
       "version_major": 2,
       "version_minor": 0
      },
      "text/plain": [
       "MapView(layout=Layout(height='400px', width='100%'))"
      ]
     },
     "metadata": {},
     "output_type": "display_data"
    },
    {
     "data": {
      "text/html": [
       "<div class=\"map-static-img-preview-22939207-6233-4c48-9592-740f2c2aecfe\"><img src=\"\"></img></div>"
      ],
      "text/plain": [
       "<IPython.core.display.HTML object>"
      ]
     },
     "metadata": {},
     "output_type": "display_data"
    }
   ],
   "source": [
    "from IPython.display import display, clear_output\n",
    "import ipywidgets as widgets\n",
    "\n",
    "from arcgis.features import SpatialDataFrame\n",
    "from arcgis.geoenrichment import enrich\n",
    "from arcgis.raster import ImageryLayer\n",
    "from arcgis.geometry import Geometry\n",
    "from arcgis.gis import GIS\n",
    "\n",
    "groups_layer = group_layer_item.layers[0]\n",
    "groups_layer_df = groups_layer.query(where = \"protocol = 'mosquito_habitat_mapper'\").sdf\n",
    "\n",
    "# Create & Display Map\n",
    "viz_map = gis.map('MHM Groups')\n",
    "viz_map.add_layer(groups_layer)\n",
    "viz_map.basemap = 'dark-gray-vector'\n",
    "display(viz_map)"
   ]
  },
  {
   "cell_type": "code",
   "execution_count": 7,
   "metadata": {},
   "outputs": [
    {
     "data": {
      "application/vnd.jupyter.widget-view+json": {
       "model_id": "46fb4b6637ad4718a3a435f216f02899",
       "version_major": 2,
       "version_minor": 0
      },
      "text/plain": [
       "interactive(children=(Dropdown(description='group', options=(1, 2, 3, 4, 5), value=1), Output()), _dom_classes…"
      ]
     },
     "metadata": {},
     "output_type": "display_data"
    },
    {
     "data": {
      "application/vnd.jupyter.widget-view+json": {
       "model_id": "d36821ef1a3145fb92c2bd879ca62d7c",
       "version_major": 2,
       "version_minor": 0
      },
      "text/plain": [
       "VBox(children=(Button(description='Get Photos', style=ButtonStyle()), Output()))"
      ]
     },
     "metadata": {},
     "output_type": "display_data"
    }
   ],
   "source": [
    "import os\n",
    "import glob\n",
    "import re\n",
    "import requests\n",
    "import sys\n",
    "\n",
    "def download_picture(url, directory):\n",
    "    def get_picture(file_name):\n",
    "        downloaded_obj = requests.get(url, allow_redirects=True)\n",
    "        parent_dir = os.path.join(directory, file_name)\n",
    "        with open(parent_dir, \"wb\") as file:\n",
    "            file.write(downloaded_obj.content)\n",
    "\n",
    "    if \"https://\" in url:\n",
    "        photo_id = re.search(r'(?<=\\d\\d\\d\\d\\/\\d\\d\\/\\d\\d\\/).*(?=\\/)', url).group(0)\n",
    "        file_name = f\"{photo_id}.jpg\".replace(\":\",\"-\")\n",
    "        get_picture(file_name)\n",
    "\n",
    "        \n",
    "def get_pictures(group):\n",
    "    files = glob.glob('Images/*')\n",
    "    for f in files:\n",
    "        os.remove(f)\n",
    "\n",
    "    group_water_source = group[\"mosquitohabitatmapperWaterSou_1\"].dropna().tolist()\n",
    "    group_abdomen = group[\"mosquitohabitatmapperAbdomenClo\"].dropna().tolist()\n",
    "    group_larvae = group[\"mosquitohabitatmapperLarvaFullB\"].dropna().tolist()\n",
    "    group_urls = group_water_source + group_abdomen + group_larvae\n",
    "    dl = 0\n",
    "    total_length = len(group_urls)\n",
    "    for urls in group_urls:\n",
    "        if urls:\n",
    "            dl += 1\n",
    "            urls = urls.split(\";\")\n",
    "            for url in urls:\n",
    "                download_picture(url, \"Images\")\n",
    "        \n",
    "        done = int(50 * dl / total_length)\n",
    "        sys.stdout.write(\"\\r[%s%s]\" % ('=' * done, ' ' * (50-done)) )    \n",
    "        sys.stdout.flush()\n",
    "\n",
    "group_name = \"\"\n",
    "@interact\n",
    "def select_group(group = groups_layer_df[\"Group_Name\"].unique()):\n",
    "    global group_name \n",
    "    group_name = group\n",
    "    group_data = groups_layer_df[groups_layer_df[\"Group_Name\"] == group]\n",
    "    latitude = group_data[\"latitude\"].iloc[0]\n",
    "    longitude = group_data[\"longitude\"].iloc[0]\n",
    "    viz_map.center = [latitude, longitude]\n",
    "\n",
    "button = widgets.Button(description='Get Photos')\n",
    "out = widgets.Output()\n",
    "\n",
    "def download_photos(_):\n",
    "    # \"linking function with output\"\n",
    "    with out:\n",
    "        # what happens when we press the button\n",
    "        clear_output()\n",
    "        print(\"Downloading Photos:\")\n",
    "        get_pictures(groups_layer_df[groups_layer_df[\"Group_Name\"] == group_name])\n",
    "        print(' Finished Downloading!')\n",
    "# linking button and function together using a button's method\n",
    "button.on_click(download_photos)\n",
    "# displaying button and its output together\n",
    "widgets.VBox([button,out])"
   ]
  },
  {
   "cell_type": "code",
   "execution_count": 114,
   "metadata": {},
   "outputs": [
    {
     "data": {
      "application/vnd.jupyter.widget-view+json": {
       "model_id": "b59f378447664d0d895242a2ad935d12",
       "version_major": 2,
       "version_minor": 0
      },
      "text/plain": [
       "interactive(children=(Dropdown(description='file', options=('1861016.jpg', '1861017.jpg', '1861018.jpg', '1861…"
      ]
     },
     "metadata": {},
     "output_type": "display_data"
    }
   ],
   "source": [
    "import os\n",
    "from IPython.display import Image\n",
    "@interact\n",
    "def show_images(file=os.listdir('Images/')):\n",
    "    display(Image(\"Images/\" + file))"
   ]
  },
  {
   "cell_type": "code",
   "execution_count": null,
   "metadata": {},
   "outputs": [],
   "source": []
  }
 ],
 "metadata": {
  "kernelspec": {
   "display_name": "Python 3",
   "language": "python",
   "name": "python3"
  },
  "language_info": {
   "codemirror_mode": {
    "name": "ipython",
    "version": 3
   },
   "file_extension": ".py",
   "mimetype": "text/x-python",
   "name": "python",
   "nbconvert_exporter": "python",
   "pygments_lexer": "ipython3",
   "version": "3.8.5"
  }
 },
 "nbformat": 4,
 "nbformat_minor": 4
}
