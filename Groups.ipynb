{
 "cells": [
  {
   "cell_type": "code",
   "execution_count": 1,
   "metadata": {},
   "outputs": [],
   "source": [
    "import pandas as pd\n",
    "from ipywidgets import interact, interactive, fixed, interact_manual\n",
    "import ipywidgets as widgets\n",
    "from arcgis.features import FeatureLayer\n",
    "\n",
    "mhm_url = \"https://services4.arcgis.com/feSRYIeirl5nUF92/arcgis/rest/services/MHM_2020/FeatureServer/0\"\n",
    "\n",
    "layer = FeatureLayer(mhm_url)\n",
    "\n",
    "df = layer.query(where = \"protocol = 'mosquito_habitat_mapper'\").sdf\n",
    "data = pd.DataFrame()\n",
    "removed_groups = []"
   ]
  },
  {
   "cell_type": "code",
   "execution_count": 2,
   "metadata": {},
   "outputs": [],
   "source": [
    "from arcgis.gis import GIS\n",
    "gis = GIS(url=\"https://igestrategies.maps.arcgis.com\")"
   ]
  },
  {
   "cell_type": "code",
   "execution_count": 3,
   "metadata": {},
   "outputs": [],
   "source": [
    "import os\n",
    "if not os.path.exists(\"Images\"):\n",
    "    os.makedirs(\"Images\")"
   ]
  },
  {
   "cell_type": "code",
   "execution_count": 4,
   "metadata": {},
   "outputs": [],
   "source": [
    "import geopandas as gpd\n",
    "from arcgis.features import GeoAccessor\n",
    "from arcgis.features import SpatialDataFrame\n",
    "from arcgis.geoenrichment import enrich\n",
    "from arcgis.raster import ImageryLayer\n",
    "from arcgis.geometry import Geometry\n",
    "\n",
    "groups_features = pd.DataFrame()\n",
    "def remove_groups():\n",
    "    global data, removed_groups\n",
    "    for removed_group in removed_groups:\n",
    "        data = data[data[\"Group Data\"] != removed_group]\n",
    "        \n",
    "def process_data(threshold):\n",
    "    global df, data, removed_groups, groups_features\n",
    "    suspect_df = df.groupby(by=['measuredDate','latitude','mosquitohabitatmapperWaterSou_2','siteName','longitude']).filter(lambda x: len(x) > threshold)\n",
    "\n",
    "    # identify groups\n",
    "    suspect_groups = suspect_df.groupby(by = ['measuredDate','latitude','mosquitohabitatmapperWaterSou_2','siteName','longitude'])\n",
    "\n",
    "    # create a groups dataset\n",
    "    groups_data = pd.DataFrame()\n",
    "    group_num = 1 \n",
    "    for group, temp in suspect_groups:\n",
    "        new_df = temp.copy(True)\n",
    "        new_df[\"Group Data\"] = str(group)\n",
    "        new_df[\"Group Name\"] = str(group_num)\n",
    "        \n",
    "        group_num += 1\n",
    "        groups_data = groups_data.append(new_df, ignore_index = True)\n",
    "    data = groups_data\n",
    "    remove_groups()\n",
    "    geojson_data = data.drop(columns = [\"SHAPE\"])\n",
    "\n",
    "    gdf = gpd.GeoDataFrame(\n",
    "        geojson_data, geometry=gpd.points_from_xy(geojson_data.longitude, geojson_data.latitude))\n",
    "    gdf.mosquitohabitatmapperComments.replace({r'[^\\x00-\\x7F]+':''}, regex=True, inplace=True)\n",
    "    groups_features = GeoAccessor.from_geodataframe(gdf)\n",
    "process_data(10)"
   ]
  },
  {
   "cell_type": "code",
   "execution_count": 5,
   "metadata": {},
   "outputs": [],
   "source": [
    "from arcgis.features import FeatureLayerCollection\n",
    "from IPython.display import display, clear_output\n",
    "import ipywidgets as widgets\n",
    "\n",
    "\n",
    "\n",
    "m1 = gis.map('MHM Groups')\n",
    "\n",
    "\n",
    "def add_layer(map_obj):\n",
    "    map_obj.basemap = 'dark-gray-vector'\n",
    "    try:\n",
    "        global groups_features\n",
    "        groups_features.spatial.plot(map_widget=map_obj, renderer_type='s', colors='Reds_r', outline_color='Reds', marker_size=10)\n",
    "\n",
    "    except KeyError:\n",
    "        print(\"no such group exists\")\n",
    "    \n",
    "def update_map():\n",
    "    global m1\n",
    "    m1.remove_layers()\n",
    "    add_layer(m1)"
   ]
  },
  {
   "cell_type": "code",
   "execution_count": 6,
   "metadata": {},
   "outputs": [],
   "source": [
    "group_name = \"\"\n",
    "group_data = pd.DataFrame()\n",
    "def move_to_group(group):\n",
    "    global group_data, m1\n",
    "    if group != \"None\":\n",
    "        group_data = data[data[\"Group Name\"] == group]\n",
    "        latitude = group_data[\"latitude\"].iloc[0]\n",
    "        longitude = group_data[\"longitude\"].iloc[0]\n",
    "        m1.center = [latitude, longitude]\n",
    "    else:\n",
    "        group_data = pd.DataFrame()\n",
    "    \n",
    "       \n",
    "def select_group(group):\n",
    "    global group_name, group_data, selected_group\n",
    "    group_name = group\n",
    "    move_to_group(group)\n",
    "    display(group_data)\n"
   ]
  },
  {
   "cell_type": "code",
   "execution_count": 7,
   "metadata": {},
   "outputs": [],
   "source": [
    "stored_threshold = 10\n",
    "threshold_output = widgets.Output()\n",
    "deleted_length = len(removed_groups)\n",
    "\n",
    "@threshold_output.capture(clear_output=True, wait=True)\n",
    "def get_groups(threshold):\n",
    "    global stored_threshold, deleted_length\n",
    "    if stored_threshold != threshold or deleted_length != len(removed_groups):\n",
    "        stored_threshold = threshold\n",
    "        deleted_length = len(removed_groups)\n",
    "        process_data(stored_threshold)\n",
    "        update_map()\n",
    "    options = data[\"Group Name\"].unique().tolist()\n",
    "    options.insert(0, \"None\")\n",
    "    display(interactive(select_group, group = options))\n",
    "    \n",
    "\n",
    "\n",
    "threshold_modifier = widgets.VBox([interactive(get_groups, threshold = widgets.IntSlider(10, 1, 100, continuous_update = False)), threshold_output])"
   ]
  },
  {
   "cell_type": "code",
   "execution_count": 103,
   "metadata": {},
   "outputs": [],
   "source": [
    "def download_groups(_):\n",
    "    with download_out:\n",
    "        global stored_threshold, data\n",
    "        filename = f\"Groups-{stored_threshold}.csv\"\n",
    "        print(f\"Saving Groups CSV as {filename}\")\n",
    "        data.to_csv(filename)\n",
    "        print(\"Finished saving file\")\n",
    "    \n",
    "download_button = widgets.Button(description='Download Data')\n",
    "download_out = widgets.Output()\n",
    "\n",
    "# linking button and function together using a button's method\n",
    "download_button.on_click(download_groups)\n",
    "\n",
    "# create download widget\n",
    "download_button = widgets.VBox([download_button, download_out])"
   ]
  },
  {
   "cell_type": "code",
   "execution_count": 113,
   "metadata": {},
   "outputs": [],
   "source": [
    "picture_data = pd.DataFrame()\n",
    "selected_photo = \"\"\n",
    "photo_category = \"\"\n",
    "def categorize_photo(category):\n",
    "    global photo_category\n",
    "    photo_category = category\n",
    "    \n",
    "    \n",
    "def add_observation(_):\n",
    "    global picture_data, selected_photo, group_data, photo_category\n",
    "    entry = {\n",
    "        \"Filename\": [selected_photo],\n",
    "        \"Group\" : [group_data[\"Group Data\"].iloc[0]],\n",
    "        \"Category\": [photo_category]\n",
    "    }\n",
    "    picture_data = picture_data.append(pd.DataFrame.from_dict(entry), ignore_index = True)\n",
    "       \n",
    "    \n",
    "def photo_obs_to_file(_):\n",
    "    # removes any duplicates and stores last recorded observation\n",
    "    global picture_data\n",
    "    picture_data = picture_data.drop_duplicates(subset = [\"Filename\", \"Group\"], keep = \"last\")\n",
    "    with photo_out:\n",
    "        clear_output()\n",
    "        picture_data.to_csv(\"Picture_Data.csv\")\n",
    "        print(\"Downloaded Picture data to file\")\n",
    "categories = [\"Exactly the Same\", \"Same Object, Different Photo\", \"Completely Different\"]\n",
    "photo_categorizer = interactive(categorize_photo, category = categories)\n",
    "\n",
    "add_observ_button = widgets.Button(description = \"Add Entry\")\n",
    "add_observ_button.on_click(add_observation)\n",
    "\n",
    "\n",
    "categorizer = widgets.HBox([photo_categorizer, add_observ_button])\n",
    "\n",
    "photo_to_file_button = widgets.Button(description = \"Save Data to File\")\n",
    "photo_to_file_button.on_click(photo_obs_to_file)\n",
    "photo_out = widgets.Output()\n",
    "photo_to_file_button = widgets.VBox([photo_to_file_button, photo_out])"
   ]
  },
  {
   "cell_type": "code",
   "execution_count": 114,
   "metadata": {},
   "outputs": [],
   "source": [
    "import glob\n",
    "import re\n",
    "import requests\n",
    "import sys\n",
    "from IPython.display import Image\n",
    "\n",
    "\n",
    "def show_images(file):\n",
    "    try:\n",
    "        global selected_photo\n",
    "        selected_photo = file\n",
    "        display(Image(\"Images/\" + file))\n",
    "    except TypeError:\n",
    "        print(\"No Pictures to download\")\n",
    "\n",
    "def download_picture(url, directory):\n",
    "    def get_picture(file_name):\n",
    "        downloaded_obj = requests.get(url, allow_redirects=True)\n",
    "        parent_dir = os.path.join(directory, file_name)\n",
    "        with open(parent_dir, \"wb\") as file:\n",
    "            file.write(downloaded_obj.content)\n",
    "\n",
    "    if \"https://\" in url:\n",
    "        photo_id = re.search(r'(?<=\\d\\d\\d\\d\\/\\d\\d\\/\\d\\d\\/).*(?=\\/)', url).group(0)\n",
    "        file_name = f\"{photo_id}.jpg\".replace(\":\",\"-\")\n",
    "        get_picture(file_name)\n",
    "\n",
    "        \n",
    "def get_pictures(group):\n",
    "    files = glob.glob('Images/*')\n",
    "    for f in files:\n",
    "        os.remove(f)\n",
    "\n",
    "    group_water_source = group[\"mosquitohabitatmapperWaterSou_1\"].dropna().tolist()\n",
    "    group_abdomen = group[\"mosquitohabitatmapperAbdomenClo\"].dropna().tolist()\n",
    "    group_larvae = group[\"mosquitohabitatmapperLarvaFullB\"].dropna().tolist()\n",
    "    group_urls = group_water_source + group_abdomen + group_larvae\n",
    "    dl = 0\n",
    "    total_length = len(group_urls)\n",
    "    for urls in group_urls:\n",
    "        if urls:\n",
    "            dl += 1\n",
    "            urls = urls.split(\";\")\n",
    "            for url in urls:\n",
    "                download_picture(url, \"Images\")\n",
    "        \n",
    "        done = int(50 * dl / total_length)\n",
    "        sys.stdout.write(\"\\r[%s%s]\" % ('=' * done, ' ' * (50-done)) )    \n",
    "        sys.stdout.flush()\n",
    "\n",
    "def download_photos(_):\n",
    "    # \"linking function with output\"\n",
    "    with out:\n",
    "        # what happens when we press the button\n",
    "        clear_output()\n",
    "        print(\"Downloading Photos:\")\n",
    "        get_pictures(data[data[\"Group Name\"] == group_name])\n",
    "        print(' Finished Downloading!')\n",
    "        \n",
    "        photos = os.listdir('Images/')\n",
    "        \n",
    "        photo_displayer = widgets.VBox([categorizer, interactive(show_images, file=photos[1:])])\n",
    "        \n",
    "        \n",
    "        try:\n",
    "            global selected_photo\n",
    "            selected_photo = photos[0]\n",
    "            categorize_photo(\"Master Photo\")\n",
    "            add_observation(None)\n",
    "            display(Image(\"Images/\" + photos[0]))\n",
    "            display(photo_displayer)\n",
    "        except IndexError:\n",
    "            display(\"No photos\")\n",
    "            "
   ]
  },
  {
   "cell_type": "code",
   "execution_count": 115,
   "metadata": {},
   "outputs": [],
   "source": [
    "button = widgets.Button(description='Get Photos')\n",
    "out = widgets.Output()\n",
    "\n",
    "# linking button and function together using a button's method\n",
    "button.on_click(download_photos)\n",
    "# displaying button and its output together\n",
    "button = widgets.VBox([button,out])\n"
   ]
  },
  {
   "cell_type": "code",
   "execution_count": 116,
   "metadata": {},
   "outputs": [],
   "source": [
    "def update_ui():\n",
    "    global stored_threshold, threshold_modifier\n",
    "    remove_groups()\n",
    "    display(threshold_modifier)\n",
    "    \n",
    "def delete_group(_):\n",
    "    global removed_groups, group_data\n",
    "    removed_groups.append(group_data[\"Group Data\"].iloc[0])\n",
    "    update_ui()\n",
    "def reset_removed(_):\n",
    "    global removed_groups\n",
    "    removed_groups = []\n",
    "    update_ui()\n",
    "    \n",
    "    "
   ]
  },
  {
   "cell_type": "code",
   "execution_count": 117,
   "metadata": {},
   "outputs": [],
   "source": [
    "delete_button = widgets.Button(description = \"Delete Group\")\n",
    "delete_button.on_click(delete_group)\n",
    "\n",
    "reset_button = widgets.Button(description = \"Reset Deletions\")\n",
    "reset_button.on_click(reset_removed)\n",
    "data_flagging = widgets.HBox([delete_button, reset_button])\n",
    "\n",
    "data_interface = widgets.VBox([data_flagging, threshold_modifier])"
   ]
  },
  {
   "cell_type": "code",
   "execution_count": 118,
   "metadata": {},
   "outputs": [],
   "source": [
    "download_interface = widgets.VBox([download_button, photo_to_file_button])"
   ]
  },
  {
   "cell_type": "code",
   "execution_count": 119,
   "metadata": {},
   "outputs": [],
   "source": [
    "tabs = widgets.Tab(children = [data_interface, button, download_interface])\n",
    "\n",
    "tabs.set_title(0, \"Threshold Selection\")\n",
    "tabs.set_title(1, \"Photo Downloader\")\n",
    "tabs.set_title(2, \"Data Download\")"
   ]
  },
  {
   "cell_type": "code",
   "execution_count": 120,
   "metadata": {},
   "outputs": [
    {
     "data": {
      "application/vnd.jupyter.widget-view+json": {
       "model_id": "0a0a1f1a86f14c0c8eb7c12f899a9444",
       "version_major": 2,
       "version_minor": 0
      },
      "text/plain": [
       "MapView(jupyter_target='lab', layout=Layout(height='400px', width='100%'), ready=True)"
      ]
     },
     "metadata": {},
     "output_type": "display_data"
    },
    {
     "data": {
      "text/html": [
       "<div class=\"map-static-img-preview-64634792-ba8c-432b-89dd-8ec6fe1c726a\"><img src=\"\"></img></div>"
      ],
      "text/plain": [
       "<IPython.core.display.HTML object>"
      ]
     },
     "metadata": {},
     "output_type": "display_data"
    }
   ],
   "source": [
    "add_layer(m1)\n",
    "m1"
   ]
  },
  {
   "cell_type": "code",
   "execution_count": 121,
   "metadata": {
    "slideshow": {
     "slide_type": "subslide"
    }
   },
   "outputs": [
    {
     "data": {
      "application/vnd.jupyter.widget-view+json": {
       "model_id": "e38f8cdbe3c243a6a4bbd75a93dbd7be",
       "version_major": 2,
       "version_minor": 0
      },
      "text/plain": [
       "Tab(children=(VBox(children=(HBox(children=(Button(description='Delete Group', style=ButtonStyle()), Button(de…"
      ]
     },
     "metadata": {},
     "output_type": "display_data"
    }
   ],
   "source": [
    "tabs"
   ]
  },
  {
   "cell_type": "code",
   "execution_count": null,
   "metadata": {},
   "outputs": [],
   "source": []
  }
 ],
 "metadata": {
  "kernelspec": {
   "display_name": "Python 3",
   "language": "python",
   "name": "python3"
  },
  "language_info": {
   "codemirror_mode": {
    "name": "ipython",
    "version": 3
   },
   "file_extension": ".py",
   "mimetype": "text/x-python",
   "name": "python",
   "nbconvert_exporter": "python",
   "pygments_lexer": "ipython3",
   "version": "3.8.5"
  }
 },
 "nbformat": 4,
 "nbformat_minor": 4
}
